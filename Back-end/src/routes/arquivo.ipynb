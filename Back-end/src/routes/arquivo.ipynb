{
 "cells": [
  {
   "cell_type": "code",
   "execution_count": 1,
   "metadata": {},
   "outputs": [],
   "source": [
    "import random \n",
    "\n",
    "quantidade = 5000\n",
    "floats = [random.uniform(0.01, 0.99) for _ in range(quantidade)]\n",
    "inteiros = [random.randint(1, 10000) for _ in range(quantidade)]\n",
    "booleans = [random.choice([True, False]) for _ in range(quantidade)]\n",
    "strings = [random.choice(['palavra aleatoria', 'frase 2']) for _ in range(quantidade)]"
   ]
  },
  {
   "cell_type": "code",
   "execution_count": 3,
   "metadata": {},
   "outputs": [],
   "source": [
    "df = {\n",
    "    \"Nomes do produto\" : strings,\n",
    "    \"Preço\": floats,\n",
    "}"
   ]
  },
  {
   "cell_type": "code",
   "execution_count": 5,
   "metadata": {},
   "outputs": [],
   "source": [
    "import pandas as pd\n",
    "\n",
    "pd.DataFrame(df).to_csv('Produtos.csv', index=False)"
   ]
  }
 ],
 "metadata": {
  "kernelspec": {
   "display_name": "Python 3",
   "language": "python",
   "name": "python3"
  },
  "language_info": {
   "codemirror_mode": {
    "name": "ipython",
    "version": 3
   },
   "file_extension": ".py",
   "mimetype": "text/x-python",
   "name": "python",
   "nbconvert_exporter": "python",
   "pygments_lexer": "ipython3",
   "version": "3.11.6"
  },
  "orig_nbformat": 4
 },
 "nbformat": 4,
 "nbformat_minor": 2
}
